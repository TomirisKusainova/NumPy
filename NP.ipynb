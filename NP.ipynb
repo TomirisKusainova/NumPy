{
 "cells": [
  {
   "cell_type": "code",
   "execution_count": 1,
   "metadata": {},
   "outputs": [],
   "source": [
    "import numpy as np"
   ]
  },
  {
   "cell_type": "markdown",
   "metadata": {},
   "source": [
    "Создайте вектор с элементами от 12 до 42"
   ]
  },
  {
   "cell_type": "code",
   "execution_count": 2,
   "metadata": {},
   "outputs": [],
   "source": [
    "a = np.arange(12, 43, 1)"
   ]
  },
  {
   "cell_type": "code",
   "execution_count": 3,
   "metadata": {},
   "outputs": [
    {
     "data": {
      "text/plain": [
       "array([12, 13, 14, 15, 16, 17, 18, 19, 20, 21, 22, 23, 24, 25, 26, 27, 28,\n",
       "       29, 30, 31, 32, 33, 34, 35, 36, 37, 38, 39, 40, 41, 42])"
      ]
     },
     "execution_count": 3,
     "metadata": {},
     "output_type": "execute_result"
    }
   ],
   "source": [
    "a"
   ]
  },
  {
   "cell_type": "markdown",
   "metadata": {},
   "source": [
    "Создайте вектор из нулей длины 12, но его пятый елемент должен быть равен 1"
   ]
  },
  {
   "cell_type": "code",
   "execution_count": 14,
   "metadata": {},
   "outputs": [],
   "source": [
    "b = np.zeros(12)\n",
    "b[4] = 1"
   ]
  },
  {
   "cell_type": "code",
   "execution_count": 15,
   "metadata": {},
   "outputs": [
    {
     "data": {
      "text/plain": [
       "array([0., 0., 0., 0., 1., 0., 0., 0., 0., 0., 0., 0.])"
      ]
     },
     "execution_count": 15,
     "metadata": {},
     "output_type": "execute_result"
    }
   ],
   "source": [
    "b"
   ]
  },
  {
   "cell_type": "markdown",
   "metadata": {},
   "source": [
    "Создайте матрицу (3, 3), заполненую от 0 до 8"
   ]
  },
  {
   "cell_type": "code",
   "execution_count": 18,
   "metadata": {},
   "outputs": [],
   "source": [
    "c = np.arange(0, 9, 1).reshape(3,3)"
   ]
  },
  {
   "cell_type": "code",
   "execution_count": 19,
   "metadata": {},
   "outputs": [
    {
     "data": {
      "text/plain": [
       "array([[0, 1, 2],\n",
       "       [3, 4, 5],\n",
       "       [6, 7, 8]])"
      ]
     },
     "execution_count": 19,
     "metadata": {},
     "output_type": "execute_result"
    }
   ],
   "source": [
    "c"
   ]
  },
  {
   "cell_type": "markdown",
   "metadata": {},
   "source": [
    "Найдите все положительные числа в np.array([1,2,0,0,4,0])"
   ]
  },
  {
   "cell_type": "code",
   "execution_count": 27,
   "metadata": {},
   "outputs": [],
   "source": [
    "d = np.array([1,2,0,0,4,0])\n",
    "e = np.where(d > 0, d, 0 )"
   ]
  },
  {
   "cell_type": "code",
   "execution_count": 28,
   "metadata": {},
   "outputs": [
    {
     "data": {
      "text/plain": [
       "array([1, 2, 0, 0, 4, 0])"
      ]
     },
     "execution_count": 28,
     "metadata": {},
     "output_type": "execute_result"
    }
   ],
   "source": [
    "e"
   ]
  },
  {
   "cell_type": "markdown",
   "metadata": {},
   "source": [
    "Умножьте матрицу размерности (5, 3) на (3, 2)"
   ]
  },
  {
   "cell_type": "code",
   "execution_count": 34,
   "metadata": {},
   "outputs": [],
   "source": [
    "import numpy.random as rand\n",
    "a = np.random.sample((5, 3))\n",
    "b = np.random.sample((3, 2))\n",
    "r = a.dot(b)"
   ]
  },
  {
   "cell_type": "code",
   "execution_count": 36,
   "metadata": {},
   "outputs": [
    {
     "name": "stdout",
     "output_type": "stream",
     "text": [
      "Матрица A:\n",
      " [[0.88603465 0.39325184 0.23098824]\n",
      " [0.20401478 0.4939956  0.35450737]\n",
      " [0.19060375 0.47718931 0.96858177]\n",
      " [0.09323088 0.93470779 0.73643793]\n",
      " [0.8302798  0.60535182 0.1020027 ]]\n",
      "Матрица B:\n",
      " [[0.18934987 0.53673202]\n",
      " [0.14232321 0.51849237]\n",
      " [0.6164761  0.33909164]]\n",
      "Результат умножения функцией:\n",
      " [[0.36613814 0.75778742]\n",
      " [0.32748253 0.4858447 ]\n",
      " [0.70111342 0.67816013]\n",
      " [0.60468025 0.7843988 ]\n",
      " [0.30625121 0.79409631]]\n"
     ]
    }
   ],
   "source": [
    "print (\"Матрица A:\\n\", a)\n",
    "print (\"Матрица B:\\n\", b)\n",
    "print (\"Результат умножения функцией:\\n\", r)"
   ]
  },
  {
   "cell_type": "markdown",
   "metadata": {},
   "source": [
    "Создайте матрицу (10, 10) так, чтобы на границе были 0, а внтури 1"
   ]
  },
  {
   "cell_type": "code",
   "execution_count": 37,
   "metadata": {},
   "outputs": [],
   "source": [
    "a = np.ones((10, 10))\n",
    "a[1:-1, 1:-1] = 0"
   ]
  },
  {
   "cell_type": "code",
   "execution_count": 38,
   "metadata": {},
   "outputs": [
    {
     "data": {
      "text/plain": [
       "array([[1., 1., 1., 1., 1., 1., 1., 1., 1., 1.],\n",
       "       [1., 0., 0., 0., 0., 0., 0., 0., 0., 1.],\n",
       "       [1., 0., 0., 0., 0., 0., 0., 0., 0., 1.],\n",
       "       [1., 0., 0., 0., 0., 0., 0., 0., 0., 1.],\n",
       "       [1., 0., 0., 0., 0., 0., 0., 0., 0., 1.],\n",
       "       [1., 0., 0., 0., 0., 0., 0., 0., 0., 1.],\n",
       "       [1., 0., 0., 0., 0., 0., 0., 0., 0., 1.],\n",
       "       [1., 0., 0., 0., 0., 0., 0., 0., 0., 1.],\n",
       "       [1., 0., 0., 0., 0., 0., 0., 0., 0., 1.],\n",
       "       [1., 1., 1., 1., 1., 1., 1., 1., 1., 1.]])"
      ]
     },
     "execution_count": 38,
     "metadata": {},
     "output_type": "execute_result"
    }
   ],
   "source": [
    "a"
   ]
  },
  {
   "cell_type": "markdown",
   "metadata": {},
   "source": [
    "Создайте рандомный вектор и отсортируйте его"
   ]
  },
  {
   "cell_type": "code",
   "execution_count": 43,
   "metadata": {},
   "outputs": [],
   "source": [
    "a = np.random.sample((5))\n",
    "b = np.sort(a)"
   ]
  },
  {
   "cell_type": "code",
   "execution_count": 45,
   "metadata": {},
   "outputs": [
    {
     "name": "stdout",
     "output_type": "stream",
     "text": [
      "не сортированный:\n",
      " [0.40053682 0.58446564 0.16168105 0.86140745 0.94451436]\n",
      "сортированный:\n",
      " [0.16168105 0.40053682 0.58446564 0.86140745 0.94451436]\n"
     ]
    }
   ],
   "source": [
    "print (\"не сортированный:\\n\", a)\n",
    "print (\"сортированный:\\n\", b)"
   ]
  },
  {
   "cell_type": "markdown",
   "metadata": {},
   "source": [
    "Дан трёхмерный массив, содержащий изображение, размера (height, width, numChannels), а также вектор длины numChannels. Сложить каналы изображения с указанными весами, и вернуть результат в виде матрицы размера (height, width). Считать реальное изображение можно при помощи функции scipy.misc.imread (если изображение не в формате png, установите пакет pillow: conda install pillow). Преобразуйте цветное изображение в оттенки серого, использовав коэффициенты np.array([0.299, 0.587, 0.114])."
   ]
  },
  {
   "cell_type": "code",
   "execution_count": 51,
   "metadata": {},
   "outputs": [
    {
     "name": "stdout",
     "output_type": "stream",
     "text": [
      "Requirement already satisfied: imageio in c:\\users\\ww\\anaconda3\\lib\\site-packages (2.9.0)\n",
      "Requirement already satisfied: numpy in c:\\users\\ww\\anaconda3\\lib\\site-packages (from imageio) (1.19.2)\n",
      "Requirement already satisfied: pillow in c:\\users\\ww\\anaconda3\\lib\\site-packages (from imageio) (8.0.1)\n",
      "Note: you may need to restart the kernel to use updated packages.\n"
     ]
    }
   ],
   "source": [
    "pip install imageio"
   ]
  },
  {
   "cell_type": "code",
   "execution_count": 60,
   "metadata": {},
   "outputs": [
    {
     "name": "stdout",
     "output_type": "stream",
     "text": [
      "Collecting opencv-python\n",
      "  Downloading opencv_python-4.5.5.62-cp36-abi3-win_amd64.whl (35.4 MB)\n",
      "Requirement already satisfied: numpy>=1.17.3; python_version >= \"3.8\" in c:\\users\\ww\\anaconda3\\lib\\site-packages (from opencv-python) (1.19.2)\n",
      "Installing collected packages: opencv-python\n",
      "Successfully installed opencv-python-4.5.5.62\n",
      "Note: you may need to restart the kernel to use updated packages.\n"
     ]
    }
   ],
   "source": [
    "pip install opencv-python"
   ]
  },
  {
   "cell_type": "code",
   "execution_count": 63,
   "metadata": {},
   "outputs": [],
   "source": [
    "import cv2"
   ]
  },
  {
   "cell_type": "code",
   "execution_count": null,
   "metadata": {},
   "outputs": [],
   "source": [
    "def become_grey(image):\n",
    "    gray = src[:,:,0]*0.299 + src[:,:,1]*0.587 + src[:,:,2]*0.114\n",
    "    gray_img = gray.astype(np.uint8)\n",
    "    return gray_img\n",
    "\n",
    "src = cv2.imread('nastol.com_.ua-351252.jpg')\n",
    "g = become_grey(src)\n",
    "\n",
    "cv2.imshow(\"Original\", src)\n",
    "cv2.imshow(\"GrayScale\", g)\n",
    "cv2.waitKey(0)\n",
    "cv2.destroyAllWindows()"
   ]
  },
  {
   "cell_type": "markdown",
   "metadata": {},
   "source": [
    "Рассмотрим сложную математическую функцию на отрезке [1, 15]:\n",
    "\n",
    "f(x) = sin(x / 5) * exp(x / 10) + 5 * exp(-x / 2)\n",
    "\n",
    "Она может описывать, например, зависимость оценок, которые выставляют определенному сорту вина эксперты, в зависимости от возраста этого вина. Мы хотим приблизить сложную зависимость с помощью функции из определенного семейства. В этом задании мы будем приближать указанную функцию с помощью многочленов.\n",
    "\n",
    "Как известно, многочлен степени n (то есть w0 + w1x + w2x2 + … + wnxn) однозначно определяется любыми n + 1 различными точками, через которые он проходит. Это значит, что его коэффициенты w0, … wn можно определить из следующей системы линейных уравнений.\n",
    "где через x1, ..., xn, xn + 1 обозначены точки, через которые проходит многочлен, а через f(x1), ..., f(xn), f(xn + 1) — значения, которые он должен принимать в этих точках.\n",
    "\n",
    "Воспользуемся описанным свойством, и будем находить приближение функции многочленом, решая систему линейных уравнений.\n",
    "\n",
    "Сформируйте систему линейных уравнений (то есть задайте матрицу коэффициентов A и свободный вектор b) для многочлена первой степени, который должен совпадать с функцией f в точках 1 и 15. Решите данную систему с помощью функции scipy.linalg.solve. Нарисуйте функцию f и полученный многочлен. Хорошо ли он приближает исходную функцию?\n",
    "\n",
    "Повторите те же шаги для многочлена второй степени, который совпадает с функцией f в точках 1, 8 и 15. Улучшилось ли качество аппроксимации?\n",
    "\n",
    "Повторите те же шаги для многочлена третьей степени, который совпадает с функцией f в точках 1, 4, 10 и 15. Хорошо ли он аппроксимирует функцию? Коэффициенты данного многочлена (четыре числа в следующем порядке: w_0, w_1, w_2, w_3) являются ответом на задачу. Округлять коэффициенты не обязательно, но при желании можете произвести округление до второго знака (т.е. до числа вида 0.42)\n"
   ]
  },
  {
   "cell_type": "markdown",
   "metadata": {},
   "source": [
    "w_0 + x* w_1 = f(x)\n",
    "w_0 + 1* w_1 = f(1)\n",
    "w_0 + 15* w_1 = f(15)"
   ]
  },
  {
   "cell_type": "code",
   "execution_count": 83,
   "metadata": {},
   "outputs": [],
   "source": [
    "f_1 = np.sin(1/5)*np.exp(1/10) + 5*np.exp(-1/2)\n",
    "f_15 = np.sin(15/5)*np.exp(15/10) + 5*np.exp(-15/2)"
   ]
  },
  {
   "cell_type": "code",
   "execution_count": 84,
   "metadata": {},
   "outputs": [],
   "source": [
    "a = np.array([[1, 1], [1, 15]])\n",
    "b = np.array([f_1, f_15])\n",
    "x = np.linalg.solve(a, b)"
   ]
  },
  {
   "cell_type": "code",
   "execution_count": 85,
   "metadata": {},
   "outputs": [
    {
     "data": {
      "text/plain": [
       "array([ 3.43914511, -0.18692825])"
      ]
     },
     "execution_count": 85,
     "metadata": {},
     "output_type": "execute_result"
    }
   ],
   "source": [
    "x"
   ]
  },
  {
   "cell_type": "markdown",
   "metadata": {},
   "source": [
    "f(x) =  3.43914511 -0.18692825* x"
   ]
  },
  {
   "cell_type": "code",
   "execution_count": 88,
   "metadata": {},
   "outputs": [
    {
     "data": {
      "image/png": "[encoded data removed]",
      "text/plain": [
       "<Figure size 432x288 with 1 Axes>"
      ]
     },
     "metadata": {
      "needs_background": "light"
     },
     "output_type": "display_data"
    }
   ],
   "source": [
    "import matplotlib.pyplot as plt\n",
    "x = np.linspace(0, 18)\n",
    "\n",
    "plt.figure()\n",
    "plt.plot(x, np.sin(x/5)*np.exp(x/10) + 5*np.exp(-x/2),'r-')\n",
    "plt.plot(x, 3.43914511 -0.18692825* x,'b-')\n",
    "plt.show()"
   ]
  },
  {
   "cell_type": "code",
   "execution_count": 89,
   "metadata": {},
   "outputs": [],
   "source": [
    "f_8 = np.sin(8/5)*np.exp(8/10) + 5*np.exp(-8/2)\n",
    "a = np.array([[1, 1, 1],[1, 8, 64], [1, 15, 225]])\n",
    "b = np.array([f_1, f_8, f_15])\n",
    "x = np.linalg.solve(a, b)"
   ]
  },
  {
   "cell_type": "code",
   "execution_count": 90,
   "metadata": {},
   "outputs": [
    {
     "data": {
      "text/plain": [
       "array([ 3.32512949, -0.06531159, -0.00760104])"
      ]
     },
     "execution_count": 90,
     "metadata": {},
     "output_type": "execute_result"
    }
   ],
   "source": [
    "x"
   ]
  },
  {
   "cell_type": "markdown",
   "metadata": {},
   "source": [
    "f(x) = 3.32512949 -0.06531159* x -0.00760104* x^2"
   ]
  },
  {
   "cell_type": "code",
   "execution_count": 93,
   "metadata": {},
   "outputs": [
    {
     "data": {
      "image/png": "[encoded data removed]",
      "text/plain": [
       "<Figure size 432x288 with 1 Axes>"
      ]
     },
     "metadata": {
      "needs_background": "light"
     },
     "output_type": "display_data"
    }
   ],
   "source": [
    "x = np.linspace(0, 18)\n",
    "\n",
    "plt.figure()\n",
    "plt.plot(x, np.sin(x/5)*np.exp(x/10) + 5*np.exp(-x/2),'r-')\n",
    "plt.plot(x, 3.32512949 -0.06531159*x -0.00760104*x**2,'b-')\n",
    "plt.show()"
   ]
  },
  {
   "cell_type": "code",
   "execution_count": 94,
   "metadata": {},
   "outputs": [],
   "source": [
    "f_4 = np.sin(4/5)*np.exp(4/10) + 5*np.exp(-4/2)\n",
    "f_10 = np.sin(10/5)*np.exp(10/10) + 5*np.exp(-10/2)\n",
    "a = np.array([[1, 1, 1, 1],[1, 4, 16, 4**3], [1, 10, 100, 1000], [1, 15, 15**2, 15**3]])\n",
    "b = np.array([f_1, f_4, f_10, f_15])\n",
    "x = np.linalg.solve(a, b)"
   ]
  },
  {
   "cell_type": "code",
   "execution_count": 95,
   "metadata": {},
   "outputs": [
    {
     "data": {
      "text/plain": [
       "array([ 4.36264154, -1.29552587,  0.19333685, -0.00823565])"
      ]
     },
     "execution_count": 95,
     "metadata": {},
     "output_type": "execute_result"
    }
   ],
   "source": [
    "x"
   ]
  },
  {
   "cell_type": "markdown",
   "metadata": {},
   "source": [
    "f(x) = 4.36264154 -1.29552587* x + 0.19333685* x^2 - 0.00823565* x^3"
   ]
  },
  {
   "cell_type": "code",
   "execution_count": 96,
   "metadata": {},
   "outputs": [
    {
     "data": {
      "image/png": "[encoded data removed]",
      "text/plain": [
       "<Figure size 432x288 with 1 Axes>"
      ]
     },
     "metadata": {
      "needs_background": "light"
     },
     "output_type": "display_data"
    }
   ],
   "source": [
    "x = np.linspace(0, 18)\n",
    "\n",
    "plt.figure()\n",
    "plt.plot(x, np.sin(x/5)*np.exp(x/10) + 5*np.exp(-x/2),'r-')\n",
    "plt.plot(x, 4.36264154 -1.29552587*x + 0.19333685*x**2 - 0.00823565*x**3,'b-')\n",
    "plt.show()"
   ]
  }
 ],
 "metadata": {
  "kernelspec": {
   "display_name": "Python 3",
   "language": "python",
   "name": "python3"
  }
 },
 "nbformat": 4,
 "nbformat_minor": 4
}
